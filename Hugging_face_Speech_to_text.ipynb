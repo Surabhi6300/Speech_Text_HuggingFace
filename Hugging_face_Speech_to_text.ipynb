{
  "nbformat": 4,
  "nbformat_minor": 0,
  "metadata": {
    "colab": {
      "provenance": [],
      "authorship_tag": "ABX9TyPofW+tt8H9zdG+XUUad/Ip",
      "include_colab_link": true
    },
    "kernelspec": {
      "name": "python3",
      "display_name": "Python 3"
    },
    "language_info": {
      "name": "python"
    },
    "widgets": {
      "application/vnd.jupyter.widget-state+json": {
        "3fc1e87b57854f27a042c107544dd8ad": {
          "model_module": "@jupyter-widgets/controls",
          "model_name": "HBoxModel",
          "model_module_version": "1.5.0",
          "state": {
            "_dom_classes": [],
            "_model_module": "@jupyter-widgets/controls",
            "_model_module_version": "1.5.0",
            "_model_name": "HBoxModel",
            "_view_count": null,
            "_view_module": "@jupyter-widgets/controls",
            "_view_module_version": "1.5.0",
            "_view_name": "HBoxView",
            "box_style": "",
            "children": [
              "IPY_MODEL_d26ae56fd0cd4dc4bbd393e31b4bf835",
              "IPY_MODEL_b21e8a324fdb4580be5df7b6666e0a94",
              "IPY_MODEL_d7101d94907644749e4965959eb4d17b"
            ],
            "layout": "IPY_MODEL_49fb0087425c498f9017e68a63a65823"
          }
        },
        "d26ae56fd0cd4dc4bbd393e31b4bf835": {
          "model_module": "@jupyter-widgets/controls",
          "model_name": "HTMLModel",
          "model_module_version": "1.5.0",
          "state": {
            "_dom_classes": [],
            "_model_module": "@jupyter-widgets/controls",
            "_model_module_version": "1.5.0",
            "_model_name": "HTMLModel",
            "_view_count": null,
            "_view_module": "@jupyter-widgets/controls",
            "_view_module_version": "1.5.0",
            "_view_name": "HTMLView",
            "description": "",
            "description_tooltip": null,
            "layout": "IPY_MODEL_435eb9fbf154439eacde94884f901dd1",
            "placeholder": "​",
            "style": "IPY_MODEL_d099db27e09c41dd88400395e7992061",
            "value": "Fetching 1 files: 100%"
          }
        },
        "b21e8a324fdb4580be5df7b6666e0a94": {
          "model_module": "@jupyter-widgets/controls",
          "model_name": "FloatProgressModel",
          "model_module_version": "1.5.0",
          "state": {
            "_dom_classes": [],
            "_model_module": "@jupyter-widgets/controls",
            "_model_module_version": "1.5.0",
            "_model_name": "FloatProgressModel",
            "_view_count": null,
            "_view_module": "@jupyter-widgets/controls",
            "_view_module_version": "1.5.0",
            "_view_name": "ProgressView",
            "bar_style": "success",
            "description": "",
            "description_tooltip": null,
            "layout": "IPY_MODEL_49104837194b42268468c19519a38f67",
            "max": 1,
            "min": 0,
            "orientation": "horizontal",
            "style": "IPY_MODEL_29a73eb892c447949406787d3ac1ddaf",
            "value": 1
          }
        },
        "d7101d94907644749e4965959eb4d17b": {
          "model_module": "@jupyter-widgets/controls",
          "model_name": "HTMLModel",
          "model_module_version": "1.5.0",
          "state": {
            "_dom_classes": [],
            "_model_module": "@jupyter-widgets/controls",
            "_model_module_version": "1.5.0",
            "_model_name": "HTMLModel",
            "_view_count": null,
            "_view_module": "@jupyter-widgets/controls",
            "_view_module_version": "1.5.0",
            "_view_name": "HTMLView",
            "description": "",
            "description_tooltip": null,
            "layout": "IPY_MODEL_6d6633f935fa48d99b718c2fbda8cbc5",
            "placeholder": "​",
            "style": "IPY_MODEL_911bb97e22754cfdb61217154cd64d72",
            "value": " 1/1 [00:00&lt;00:00, 32.72it/s]"
          }
        },
        "49fb0087425c498f9017e68a63a65823": {
          "model_module": "@jupyter-widgets/base",
          "model_name": "LayoutModel",
          "model_module_version": "1.2.0",
          "state": {
            "_model_module": "@jupyter-widgets/base",
            "_model_module_version": "1.2.0",
            "_model_name": "LayoutModel",
            "_view_count": null,
            "_view_module": "@jupyter-widgets/base",
            "_view_module_version": "1.2.0",
            "_view_name": "LayoutView",
            "align_content": null,
            "align_items": null,
            "align_self": null,
            "border": null,
            "bottom": null,
            "display": null,
            "flex": null,
            "flex_flow": null,
            "grid_area": null,
            "grid_auto_columns": null,
            "grid_auto_flow": null,
            "grid_auto_rows": null,
            "grid_column": null,
            "grid_gap": null,
            "grid_row": null,
            "grid_template_areas": null,
            "grid_template_columns": null,
            "grid_template_rows": null,
            "height": null,
            "justify_content": null,
            "justify_items": null,
            "left": null,
            "margin": null,
            "max_height": null,
            "max_width": null,
            "min_height": null,
            "min_width": null,
            "object_fit": null,
            "object_position": null,
            "order": null,
            "overflow": null,
            "overflow_x": null,
            "overflow_y": null,
            "padding": null,
            "right": null,
            "top": null,
            "visibility": null,
            "width": null
          }
        },
        "435eb9fbf154439eacde94884f901dd1": {
          "model_module": "@jupyter-widgets/base",
          "model_name": "LayoutModel",
          "model_module_version": "1.2.0",
          "state": {
            "_model_module": "@jupyter-widgets/base",
            "_model_module_version": "1.2.0",
            "_model_name": "LayoutModel",
            "_view_count": null,
            "_view_module": "@jupyter-widgets/base",
            "_view_module_version": "1.2.0",
            "_view_name": "LayoutView",
            "align_content": null,
            "align_items": null,
            "align_self": null,
            "border": null,
            "bottom": null,
            "display": null,
            "flex": null,
            "flex_flow": null,
            "grid_area": null,
            "grid_auto_columns": null,
            "grid_auto_flow": null,
            "grid_auto_rows": null,
            "grid_column": null,
            "grid_gap": null,
            "grid_row": null,
            "grid_template_areas": null,
            "grid_template_columns": null,
            "grid_template_rows": null,
            "height": null,
            "justify_content": null,
            "justify_items": null,
            "left": null,
            "margin": null,
            "max_height": null,
            "max_width": null,
            "min_height": null,
            "min_width": null,
            "object_fit": null,
            "object_position": null,
            "order": null,
            "overflow": null,
            "overflow_x": null,
            "overflow_y": null,
            "padding": null,
            "right": null,
            "top": null,
            "visibility": null,
            "width": null
          }
        },
        "d099db27e09c41dd88400395e7992061": {
          "model_module": "@jupyter-widgets/controls",
          "model_name": "DescriptionStyleModel",
          "model_module_version": "1.5.0",
          "state": {
            "_model_module": "@jupyter-widgets/controls",
            "_model_module_version": "1.5.0",
            "_model_name": "DescriptionStyleModel",
            "_view_count": null,
            "_view_module": "@jupyter-widgets/base",
            "_view_module_version": "1.2.0",
            "_view_name": "StyleView",
            "description_width": ""
          }
        },
        "49104837194b42268468c19519a38f67": {
          "model_module": "@jupyter-widgets/base",
          "model_name": "LayoutModel",
          "model_module_version": "1.2.0",
          "state": {
            "_model_module": "@jupyter-widgets/base",
            "_model_module_version": "1.2.0",
            "_model_name": "LayoutModel",
            "_view_count": null,
            "_view_module": "@jupyter-widgets/base",
            "_view_module_version": "1.2.0",
            "_view_name": "LayoutView",
            "align_content": null,
            "align_items": null,
            "align_self": null,
            "border": null,
            "bottom": null,
            "display": null,
            "flex": null,
            "flex_flow": null,
            "grid_area": null,
            "grid_auto_columns": null,
            "grid_auto_flow": null,
            "grid_auto_rows": null,
            "grid_column": null,
            "grid_gap": null,
            "grid_row": null,
            "grid_template_areas": null,
            "grid_template_columns": null,
            "grid_template_rows": null,
            "height": null,
            "justify_content": null,
            "justify_items": null,
            "left": null,
            "margin": null,
            "max_height": null,
            "max_width": null,
            "min_height": null,
            "min_width": null,
            "object_fit": null,
            "object_position": null,
            "order": null,
            "overflow": null,
            "overflow_x": null,
            "overflow_y": null,
            "padding": null,
            "right": null,
            "top": null,
            "visibility": null,
            "width": null
          }
        },
        "29a73eb892c447949406787d3ac1ddaf": {
          "model_module": "@jupyter-widgets/controls",
          "model_name": "ProgressStyleModel",
          "model_module_version": "1.5.0",
          "state": {
            "_model_module": "@jupyter-widgets/controls",
            "_model_module_version": "1.5.0",
            "_model_name": "ProgressStyleModel",
            "_view_count": null,
            "_view_module": "@jupyter-widgets/base",
            "_view_module_version": "1.2.0",
            "_view_name": "StyleView",
            "bar_color": null,
            "description_width": ""
          }
        },
        "6d6633f935fa48d99b718c2fbda8cbc5": {
          "model_module": "@jupyter-widgets/base",
          "model_name": "LayoutModel",
          "model_module_version": "1.2.0",
          "state": {
            "_model_module": "@jupyter-widgets/base",
            "_model_module_version": "1.2.0",
            "_model_name": "LayoutModel",
            "_view_count": null,
            "_view_module": "@jupyter-widgets/base",
            "_view_module_version": "1.2.0",
            "_view_name": "LayoutView",
            "align_content": null,
            "align_items": null,
            "align_self": null,
            "border": null,
            "bottom": null,
            "display": null,
            "flex": null,
            "flex_flow": null,
            "grid_area": null,
            "grid_auto_columns": null,
            "grid_auto_flow": null,
            "grid_auto_rows": null,
            "grid_column": null,
            "grid_gap": null,
            "grid_row": null,
            "grid_template_areas": null,
            "grid_template_columns": null,
            "grid_template_rows": null,
            "height": null,
            "justify_content": null,
            "justify_items": null,
            "left": null,
            "margin": null,
            "max_height": null,
            "max_width": null,
            "min_height": null,
            "min_width": null,
            "object_fit": null,
            "object_position": null,
            "order": null,
            "overflow": null,
            "overflow_x": null,
            "overflow_y": null,
            "padding": null,
            "right": null,
            "top": null,
            "visibility": null,
            "width": null
          }
        },
        "911bb97e22754cfdb61217154cd64d72": {
          "model_module": "@jupyter-widgets/controls",
          "model_name": "DescriptionStyleModel",
          "model_module_version": "1.5.0",
          "state": {
            "_model_module": "@jupyter-widgets/controls",
            "_model_module_version": "1.5.0",
            "_model_name": "DescriptionStyleModel",
            "_view_count": null,
            "_view_module": "@jupyter-widgets/base",
            "_view_module_version": "1.2.0",
            "_view_name": "StyleView",
            "description_width": ""
          }
        }
      }
    }
  },
  "cells": [
    {
      "cell_type": "markdown",
      "metadata": {
        "id": "view-in-github",
        "colab_type": "text"
      },
      "source": [
        "<a href=\"https://colab.research.google.com/github/Surabhi6300/Speech_Text_HuggingFace/blob/main/Hugging_face_Speech_to_text.ipynb\" target=\"_parent\"><img src=\"https://colab.research.google.com/assets/colab-badge.svg\" alt=\"Open In Colab\"/></a>"
      ]
    },
    {
      "cell_type": "code",
      "execution_count": 87,
      "metadata": {
        "colab": {
          "base_uri": "https://localhost:8080/"
        },
        "id": "5xI7dlZPbRck",
        "outputId": "87974abf-643c-4f7e-f852-3ed30e80dd8b",
        "collapsed": true
      },
      "outputs": [
        {
          "output_type": "stream",
          "name": "stdout",
          "text": [
            "Requirement already satisfied: transformers in /usr/local/lib/python3.12/dist-packages (4.56.1)\n",
            "Requirement already satisfied: filelock in /usr/local/lib/python3.12/dist-packages (from transformers) (3.19.1)\n",
            "Requirement already satisfied: huggingface-hub<1.0,>=0.34.0 in /usr/local/lib/python3.12/dist-packages (from transformers) (0.34.4)\n",
            "Requirement already satisfied: numpy>=1.17 in /usr/local/lib/python3.12/dist-packages (from transformers) (2.0.2)\n",
            "Requirement already satisfied: packaging>=20.0 in /usr/local/lib/python3.12/dist-packages (from transformers) (25.0)\n",
            "Requirement already satisfied: pyyaml>=5.1 in /usr/local/lib/python3.12/dist-packages (from transformers) (6.0.2)\n",
            "Requirement already satisfied: regex!=2019.12.17 in /usr/local/lib/python3.12/dist-packages (from transformers) (2024.11.6)\n",
            "Requirement already satisfied: requests in /usr/local/lib/python3.12/dist-packages (from transformers) (2.32.4)\n",
            "Requirement already satisfied: tokenizers<=0.23.0,>=0.22.0 in /usr/local/lib/python3.12/dist-packages (from transformers) (0.22.0)\n",
            "Requirement already satisfied: safetensors>=0.4.3 in /usr/local/lib/python3.12/dist-packages (from transformers) (0.6.2)\n",
            "Requirement already satisfied: tqdm>=4.27 in /usr/local/lib/python3.12/dist-packages (from transformers) (4.67.1)\n",
            "Requirement already satisfied: fsspec>=2023.5.0 in /usr/local/lib/python3.12/dist-packages (from huggingface-hub<1.0,>=0.34.0->transformers) (2025.3.0)\n",
            "Requirement already satisfied: typing-extensions>=3.7.4.3 in /usr/local/lib/python3.12/dist-packages (from huggingface-hub<1.0,>=0.34.0->transformers) (4.15.0)\n",
            "Requirement already satisfied: hf-xet<2.0.0,>=1.1.3 in /usr/local/lib/python3.12/dist-packages (from huggingface-hub<1.0,>=0.34.0->transformers) (1.1.9)\n",
            "Requirement already satisfied: charset_normalizer<4,>=2 in /usr/local/lib/python3.12/dist-packages (from requests->transformers) (3.4.3)\n",
            "Requirement already satisfied: idna<4,>=2.5 in /usr/local/lib/python3.12/dist-packages (from requests->transformers) (3.10)\n",
            "Requirement already satisfied: urllib3<3,>=1.21.1 in /usr/local/lib/python3.12/dist-packages (from requests->transformers) (2.5.0)\n",
            "Requirement already satisfied: certifi>=2017.4.17 in /usr/local/lib/python3.12/dist-packages (from requests->transformers) (2025.8.3)\n"
          ]
        }
      ],
      "source": [
        "!pip install transformers"
      ]
    },
    {
      "cell_type": "code",
      "source": [
        "!pip install transformers torchaudio torch"
      ],
      "metadata": {
        "colab": {
          "base_uri": "https://localhost:8080/"
        },
        "collapsed": true,
        "id": "7LCdevy3GBHZ",
        "outputId": "a6ece8ec-97e3-4616-8771-54f20e7b0a46"
      },
      "execution_count": 88,
      "outputs": [
        {
          "output_type": "stream",
          "name": "stdout",
          "text": [
            "Requirement already satisfied: transformers in /usr/local/lib/python3.12/dist-packages (4.56.1)\n",
            "Requirement already satisfied: torchaudio in /usr/local/lib/python3.12/dist-packages (2.8.0+cu126)\n",
            "Requirement already satisfied: torch in /usr/local/lib/python3.12/dist-packages (2.8.0+cu126)\n",
            "Requirement already satisfied: filelock in /usr/local/lib/python3.12/dist-packages (from transformers) (3.19.1)\n",
            "Requirement already satisfied: huggingface-hub<1.0,>=0.34.0 in /usr/local/lib/python3.12/dist-packages (from transformers) (0.34.4)\n",
            "Requirement already satisfied: numpy>=1.17 in /usr/local/lib/python3.12/dist-packages (from transformers) (2.0.2)\n",
            "Requirement already satisfied: packaging>=20.0 in /usr/local/lib/python3.12/dist-packages (from transformers) (25.0)\n",
            "Requirement already satisfied: pyyaml>=5.1 in /usr/local/lib/python3.12/dist-packages (from transformers) (6.0.2)\n",
            "Requirement already satisfied: regex!=2019.12.17 in /usr/local/lib/python3.12/dist-packages (from transformers) (2024.11.6)\n",
            "Requirement already satisfied: requests in /usr/local/lib/python3.12/dist-packages (from transformers) (2.32.4)\n",
            "Requirement already satisfied: tokenizers<=0.23.0,>=0.22.0 in /usr/local/lib/python3.12/dist-packages (from transformers) (0.22.0)\n",
            "Requirement already satisfied: safetensors>=0.4.3 in /usr/local/lib/python3.12/dist-packages (from transformers) (0.6.2)\n",
            "Requirement already satisfied: tqdm>=4.27 in /usr/local/lib/python3.12/dist-packages (from transformers) (4.67.1)\n",
            "Requirement already satisfied: typing-extensions>=4.10.0 in /usr/local/lib/python3.12/dist-packages (from torch) (4.15.0)\n",
            "Requirement already satisfied: setuptools in /usr/local/lib/python3.12/dist-packages (from torch) (75.2.0)\n",
            "Requirement already satisfied: sympy>=1.13.3 in /usr/local/lib/python3.12/dist-packages (from torch) (1.13.3)\n",
            "Requirement already satisfied: networkx in /usr/local/lib/python3.12/dist-packages (from torch) (3.5)\n",
            "Requirement already satisfied: jinja2 in /usr/local/lib/python3.12/dist-packages (from torch) (3.1.6)\n",
            "Requirement already satisfied: fsspec in /usr/local/lib/python3.12/dist-packages (from torch) (2025.3.0)\n",
            "Requirement already satisfied: nvidia-cuda-nvrtc-cu12==12.6.77 in /usr/local/lib/python3.12/dist-packages (from torch) (12.6.77)\n",
            "Requirement already satisfied: nvidia-cuda-runtime-cu12==12.6.77 in /usr/local/lib/python3.12/dist-packages (from torch) (12.6.77)\n",
            "Requirement already satisfied: nvidia-cuda-cupti-cu12==12.6.80 in /usr/local/lib/python3.12/dist-packages (from torch) (12.6.80)\n",
            "Requirement already satisfied: nvidia-cudnn-cu12==9.10.2.21 in /usr/local/lib/python3.12/dist-packages (from torch) (9.10.2.21)\n",
            "Requirement already satisfied: nvidia-cublas-cu12==12.6.4.1 in /usr/local/lib/python3.12/dist-packages (from torch) (12.6.4.1)\n",
            "Requirement already satisfied: nvidia-cufft-cu12==11.3.0.4 in /usr/local/lib/python3.12/dist-packages (from torch) (11.3.0.4)\n",
            "Requirement already satisfied: nvidia-curand-cu12==10.3.7.77 in /usr/local/lib/python3.12/dist-packages (from torch) (10.3.7.77)\n",
            "Requirement already satisfied: nvidia-cusolver-cu12==11.7.1.2 in /usr/local/lib/python3.12/dist-packages (from torch) (11.7.1.2)\n",
            "Requirement already satisfied: nvidia-cusparse-cu12==12.5.4.2 in /usr/local/lib/python3.12/dist-packages (from torch) (12.5.4.2)\n",
            "Requirement already satisfied: nvidia-cusparselt-cu12==0.7.1 in /usr/local/lib/python3.12/dist-packages (from torch) (0.7.1)\n",
            "Requirement already satisfied: nvidia-nccl-cu12==2.27.3 in /usr/local/lib/python3.12/dist-packages (from torch) (2.27.3)\n",
            "Requirement already satisfied: nvidia-nvtx-cu12==12.6.77 in /usr/local/lib/python3.12/dist-packages (from torch) (12.6.77)\n",
            "Requirement already satisfied: nvidia-nvjitlink-cu12==12.6.85 in /usr/local/lib/python3.12/dist-packages (from torch) (12.6.85)\n",
            "Requirement already satisfied: nvidia-cufile-cu12==1.11.1.6 in /usr/local/lib/python3.12/dist-packages (from torch) (1.11.1.6)\n",
            "Requirement already satisfied: triton==3.4.0 in /usr/local/lib/python3.12/dist-packages (from torch) (3.4.0)\n",
            "Requirement already satisfied: hf-xet<2.0.0,>=1.1.3 in /usr/local/lib/python3.12/dist-packages (from huggingface-hub<1.0,>=0.34.0->transformers) (1.1.9)\n",
            "Requirement already satisfied: mpmath<1.4,>=1.1.0 in /usr/local/lib/python3.12/dist-packages (from sympy>=1.13.3->torch) (1.3.0)\n",
            "Requirement already satisfied: MarkupSafe>=2.0 in /usr/local/lib/python3.12/dist-packages (from jinja2->torch) (3.0.2)\n",
            "Requirement already satisfied: charset_normalizer<4,>=2 in /usr/local/lib/python3.12/dist-packages (from requests->transformers) (3.4.3)\n",
            "Requirement already satisfied: idna<4,>=2.5 in /usr/local/lib/python3.12/dist-packages (from requests->transformers) (3.10)\n",
            "Requirement already satisfied: urllib3<3,>=1.21.1 in /usr/local/lib/python3.12/dist-packages (from requests->transformers) (2.5.0)\n",
            "Requirement already satisfied: certifi>=2017.4.17 in /usr/local/lib/python3.12/dist-packages (from requests->transformers) (2025.8.3)\n"
          ]
        }
      ]
    },
    {
      "cell_type": "code",
      "source": [
        "from transformers import pipeline"
      ],
      "metadata": {
        "id": "FThpjD8FcCYf"
      },
      "execution_count": 89,
      "outputs": []
    },
    {
      "cell_type": "code",
      "source": [
        "import transformers\n",
        "print(transformers.__version__)"
      ],
      "metadata": {
        "colab": {
          "base_uri": "https://localhost:8080/"
        },
        "id": "z1Uw2IX9cqS6",
        "outputId": "0a90759b-0f42-4836-d555-d427b12872c3"
      },
      "execution_count": 90,
      "outputs": [
        {
          "output_type": "stream",
          "name": "stdout",
          "text": [
            "4.56.1\n"
          ]
        }
      ]
    },
    {
      "cell_type": "code",
      "source": [
        "import librosa\n",
        "import torch\n",
        "import IPython.display as display\n",
        "from transformers import Wav2Vec2ForCTC, Wav2Vec2Processor\n",
        "import numpy as np"
      ],
      "metadata": {
        "id": "6Xqft-psdYjV"
      },
      "execution_count": 91,
      "outputs": []
    },
    {
      "cell_type": "code",
      "source": [
        "processor = Wav2Vec2Processor.from_pretrained('facebook/wav2vec2-base-960h')\n",
        "model = Wav2Vec2ForCTC.from_pretrained(\"facebook/wav2vec2-base-960h\")"
      ],
      "metadata": {
        "colab": {
          "base_uri": "https://localhost:8080/",
          "height": 104,
          "referenced_widgets": [
            "3fc1e87b57854f27a042c107544dd8ad",
            "d26ae56fd0cd4dc4bbd393e31b4bf835",
            "b21e8a324fdb4580be5df7b6666e0a94",
            "d7101d94907644749e4965959eb4d17b",
            "49fb0087425c498f9017e68a63a65823",
            "435eb9fbf154439eacde94884f901dd1",
            "d099db27e09c41dd88400395e7992061",
            "49104837194b42268468c19519a38f67",
            "29a73eb892c447949406787d3ac1ddaf",
            "6d6633f935fa48d99b718c2fbda8cbc5",
            "911bb97e22754cfdb61217154cd64d72"
          ]
        },
        "id": "WyM9z-bXgkZQ",
        "outputId": "025d623b-50db-4b38-9e70-27f512c67ed8",
        "collapsed": true
      },
      "execution_count": 92,
      "outputs": [
        {
          "output_type": "display_data",
          "data": {
            "text/plain": [
              "Fetching 1 files:   0%|          | 0/1 [00:00<?, ?it/s]"
            ],
            "application/vnd.jupyter.widget-view+json": {
              "version_major": 2,
              "version_minor": 0,
              "model_id": "3fc1e87b57854f27a042c107544dd8ad"
            }
          },
          "metadata": {}
        },
        {
          "output_type": "stream",
          "name": "stderr",
          "text": [
            "Some weights of Wav2Vec2ForCTC were not initialized from the model checkpoint at facebook/wav2vec2-base-960h and are newly initialized: ['wav2vec2.masked_spec_embed']\n",
            "You should probably TRAIN this model on a down-stream task to be able to use it for predictions and inference.\n"
          ]
        }
      ]
    },
    {
      "cell_type": "code",
      "source": [
        "from google.colab import output\n",
        "from base64 import b64decode\n",
        "import IPython.display as display\n",
        "\n",
        "def record_audio(filename=\"my_audio.wav\"):\n",
        "    js = \"\"\"\n",
        "    async function record(sec) {\n",
        "        const stream = await navigator.mediaDevices.getUserMedia({audio: true});\n",
        "        const recorder = new MediaRecorder(stream);\n",
        "        let data = [];\n",
        "        recorder.ondataavailable = event => data.push(event.data);\n",
        "        recorder.start();\n",
        "        await new Promise(r => setTimeout(r, sec * 1000));\n",
        "        recorder.stop();\n",
        "        await new Promise(r => recorder.onstop = r);\n",
        "        let audio = new Blob(data);\n",
        "        let reader = new FileReader();\n",
        "        reader.readAsDataURL(audio);\n",
        "        reader.onloadend = () => {\n",
        "            google.colab.kernel.invokeFunction('notebook.recorded', [reader.result], {});\n",
        "        };\n",
        "    }\n",
        "    record(5)  // Record for 5 seconds\n",
        "    \"\"\"\n",
        "    output.register_callback('notebook.recorded', lambda s: open(filename, \"wb\").write(b64decode(s.split(',')[1])))\n",
        "    display.display(display.Javascript(js))\n",
        "\n",
        "record_audio(\"my_audio.wav\")\n"
      ],
      "metadata": {
        "colab": {
          "base_uri": "https://localhost:8080/",
          "height": 17
        },
        "id": "iV6Gt0j8BWss",
        "outputId": "e6905d9f-3a6a-4e35-ea29-c28a2700a8b6"
      },
      "execution_count": 93,
      "outputs": [
        {
          "output_type": "display_data",
          "data": {
            "text/plain": [
              "<IPython.core.display.Javascript object>"
            ],
            "application/javascript": [
              "\n",
              "    async function record(sec) {\n",
              "        const stream = await navigator.mediaDevices.getUserMedia({audio: true});\n",
              "        const recorder = new MediaRecorder(stream);\n",
              "        let data = [];\n",
              "        recorder.ondataavailable = event => data.push(event.data);\n",
              "        recorder.start();\n",
              "        await new Promise(r => setTimeout(r, sec * 1000));\n",
              "        recorder.stop();\n",
              "        await new Promise(r => recorder.onstop = r);\n",
              "        let audio = new Blob(data);\n",
              "        let reader = new FileReader();\n",
              "        reader.readAsDataURL(audio);\n",
              "        reader.onloadend = () => {\n",
              "            google.colab.kernel.invokeFunction('notebook.recorded', [reader.result], {});\n",
              "        };\n",
              "    }\n",
              "    record(5)  // Record for 5 seconds\n",
              "    "
            ]
          },
          "metadata": {}
        }
      ]
    },
    {
      "cell_type": "code",
      "source": [
        "import librosa\n",
        "\n",
        "# Load the file that was saved\n",
        "audio, sampling_rate = librosa.load(\"my_audio.wav\", sr=16000)\n",
        "\n",
        "print(\"Shape:\", audio.shape)\n",
        "print(\"Sample Rate:\", sampling_rate)\n"
      ],
      "metadata": {
        "colab": {
          "base_uri": "https://localhost:8080/"
        },
        "id": "oJjsCmXo-Pxn",
        "outputId": "82014161-6558-4a53-e2f2-92ca13fa38a2"
      },
      "execution_count": 94,
      "outputs": [
        {
          "output_type": "stream",
          "name": "stdout",
          "text": [
            "Shape: (79680,)\n",
            "Sample Rate: 16000\n"
          ]
        },
        {
          "output_type": "stream",
          "name": "stderr",
          "text": [
            "/tmp/ipython-input-4009978104.py:4: UserWarning: PySoundFile failed. Trying audioread instead.\n",
            "  audio, sampling_rate = librosa.load(\"my_audio.wav\", sr=16000)\n",
            "/usr/local/lib/python3.12/dist-packages/librosa/core/audio.py:184: FutureWarning: librosa.core.audio.__audioread_load\n",
            "\tDeprecated as of librosa version 0.10.0.\n",
            "\tIt will be removed in librosa version 1.0.\n",
            "  y, sr_native = __audioread_load(path, offset, duration, dtype)\n"
          ]
        }
      ]
    },
    {
      "cell_type": "code",
      "source": [
        "display.Audio('my_audio.wav', autoplay=True)"
      ],
      "metadata": {
        "colab": {
          "base_uri": "https://localhost:8080/",
          "height": 76
        },
        "id": "B9O6G_XmD-dq",
        "outputId": "b1bff3cf-f52c-494e-9c40-08c71b9c2ff5"
      },
      "execution_count": 95,
      "outputs": [
        {
          "output_type": "execute_result",
          "data": {
            "text/plain": [
              "<IPython.lib.display.Audio object>"
            ],
            "text/html": [
              "\n",
              "                <audio  controls=\"controls\" autoplay=\"autoplay\">\n",
              "                    <source src=\"data:audio/x-wav;base64,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\" type=\"audio/x-wav\" />\n",
              "                    Your browser does not support the audio element.\n",
              "                </audio>\n",
              "              "
            ]
          },
          "metadata": {},
          "execution_count": 95
        }
      ]
    },
    {
      "cell_type": "code",
      "source": [
        "input_values = processor(audio,sampling_rate=16000,return_tensors = \"pt\").input_values\n",
        "\n",
        "input_values"
      ],
      "metadata": {
        "colab": {
          "base_uri": "https://localhost:8080/"
        },
        "id": "aJoLjov9IpaI",
        "outputId": "f7557a54-469b-40cc-caa3-0950d9ef1fe5"
      },
      "execution_count": 96,
      "outputs": [
        {
          "output_type": "execute_result",
          "data": {
            "text/plain": [
              "tensor([[-0.0003, -0.0003, -0.0003,  ..., -0.0021, -0.0045, -0.0046]])"
            ]
          },
          "metadata": {},
          "execution_count": 96
        }
      ]
    },
    {
      "cell_type": "code",
      "source": [
        "logits= model(input_values).logits\n",
        "logits"
      ],
      "metadata": {
        "colab": {
          "base_uri": "https://localhost:8080/"
        },
        "id": "dnjKQ8RZLaVr",
        "outputId": "2ea6a713-73ba-4189-edda-b83d4a89fb3a"
      },
      "execution_count": 97,
      "outputs": [
        {
          "output_type": "execute_result",
          "data": {
            "text/plain": [
              "tensor([[[ 12.8271, -26.1798, -25.9160,  ...,  -6.6918,  -7.3308,  -7.2776],\n",
              "         [ 12.9298, -26.3921, -26.1114,  ...,  -6.7743,  -7.4865,  -7.3200],\n",
              "         [ 12.6997, -26.0345, -25.7571,  ...,  -6.7451,  -7.2747,  -7.4073],\n",
              "         ...,\n",
              "         [ 12.9344, -25.9628, -25.6859,  ...,  -6.8147,  -7.7617,  -7.4507],\n",
              "         [ 12.7867, -25.9830, -25.7229,  ...,  -6.8111,  -7.7621,  -7.5583],\n",
              "         [ 12.7469, -26.2092, -25.9582,  ...,  -6.9627,  -8.0023,  -7.4365]]],\n",
              "       grad_fn=<ViewBackward0>)"
            ]
          },
          "metadata": {},
          "execution_count": 97
        }
      ]
    },
    {
      "cell_type": "code",
      "source": [
        "predicted_ids = torch.argmax(logits, dim = -1)"
      ],
      "metadata": {
        "id": "VDjMt-W3L1YY"
      },
      "execution_count": 98,
      "outputs": []
    },
    {
      "cell_type": "code",
      "source": [
        "transcriptions = processor.decode(predicted_ids[0])\n",
        "transcriptions"
      ],
      "metadata": {
        "colab": {
          "base_uri": "https://localhost:8080/",
          "height": 36
        },
        "collapsed": true,
        "id": "r9PIlInCLzfq",
        "outputId": "05797dfe-0461-4918-f46e-a819c0eb17db"
      },
      "execution_count": 99,
      "outputs": [
        {
          "output_type": "execute_result",
          "data": {
            "text/plain": [
              "'AND WILL THIS AS SOONER BE HOW ARE YOU DOING TO DAY'"
            ],
            "application/vnd.google.colaboratory.intrinsic+json": {
              "type": "string"
            }
          },
          "metadata": {},
          "execution_count": 99
        }
      ]
    }
  ]
}